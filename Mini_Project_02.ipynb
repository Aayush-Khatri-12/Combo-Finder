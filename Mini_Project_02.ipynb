{
  "nbformat": 4,
  "nbformat_minor": 0,
  "metadata": {
    "colab": {
      "provenance": [],
      "authorship_tag": "ABX9TyMyq2mROutg5QtZXhmmzNU8",
      "include_colab_link": true
    },
    "kernelspec": {
      "name": "python3",
      "display_name": "Python 3"
    },
    "language_info": {
      "name": "python"
    }
  },
  "cells": [
    {
      "cell_type": "markdown",
      "metadata": {
        "id": "view-in-github",
        "colab_type": "text"
      },
      "source": [
        "<a href=\"https://colab.research.google.com/github/Aayush-Khatri-12/Python_basics_Mini-Project-02/blob/main/Mini_Project_02.ipynb\" target=\"_parent\"><img src=\"https://colab.research.google.com/assets/colab-badge.svg\" alt=\"Open In Colab\"/></a>"
      ]
    },
    {
      "cell_type": "markdown",
      "source": [
        "  ---\n",
        "# **ComboFinder**\n",
        "---\n",
        "####**Problem Statement:**\n",
        "Find all the list of products whose sum-of-price is between 290 and 310.\n",
        "\n",
        "ProductList={'p1':10, 'p2':15, 'p3':20, 'p4':25, 'p5':30, 'p6':35, 'p7':50, 'p8':40, 'p9':55, 'p10':60, 'p11':65, 'p12':75, 'p13':70, 'p14':45}\n",
        "\n",
        "---"
      ],
      "metadata": {
        "id": "4SJv2MO2S897"
      }
    },
    {
      "cell_type": "code",
      "source": [
        "import random as r\n",
        "ProductList={'p1':10, 'p2':15, 'p3':20, 'p4':25, 'p5':30, 'p6':35, 'p7':50, 'p8':40, 'p9':55, 'p10':60, 'p11':65, 'p12':75, 'p13':70, 'p14':45}\n",
        "lower=290\n",
        "upper=310\n",
        "iterations=10000\n",
        "ReturnList=set()\n",
        "for i in range(iterations):\n",
        "  size=r.randint(2,len(ProductList)-1)\n",
        "  ComboList=r.sample(list(ProductList.keys()),size)\n",
        "  ComboList.sort()\n",
        "  ComboSum=sum([ProductList[i] for i in ComboList])\n",
        "  if ComboSum>=lower and ComboSum<=upper:\n",
        "    ReturnList.add(tuple(ComboList))\n",
        "#for r in ReturnList:\n",
        "#  print(r)\n",
        "print(\"total combos:\",len(ReturnList))"
      ],
      "metadata": {
        "colab": {
          "base_uri": "https://localhost:8080/"
        },
        "id": "PiH8l1biTJwe",
        "outputId": "074ba45f-97a7-4a6c-e27b-28b1d2467c01"
      },
      "execution_count": null,
      "outputs": [
        {
          "output_type": "stream",
          "name": "stdout",
          "text": [
            "total combos: 416\n"
          ]
        }
      ]
    }
  ]
}